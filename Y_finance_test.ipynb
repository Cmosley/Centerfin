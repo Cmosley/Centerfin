{
  "nbformat": 4,
  "nbformat_minor": 0,
  "metadata": {
    "colab": {
      "name": "Y-finance-test.ipynb",
      "provenance": [],
      "authorship_tag": "ABX9TyOqU9oCK2PP/OJGvSROytyA",
      "include_colab_link": true
    },
    "kernelspec": {
      "name": "python3",
      "display_name": "Python 3"
    },
    "language_info": {
      "name": "python"
    }
  },
  "cells": [
    {
      "cell_type": "markdown",
      "metadata": {
        "id": "view-in-github",
        "colab_type": "text"
      },
      "source": [
        "<a href=\"https://colab.research.google.com/github/Cmosley/Centerfin/blob/ticker-api/Y_finance_test.ipynb\" target=\"_parent\"><img src=\"https://colab.research.google.com/assets/colab-badge.svg\" alt=\"Open In Colab\"/></a>"
      ]
    },
    {
      "cell_type": "code",
      "source": [
        "!pip install yfinance"
      ],
      "metadata": {
        "id": "9Y7epTUXX8Sw"
      },
      "execution_count": null,
      "outputs": []
    },
    {
      "cell_type": "code",
      "execution_count": 13,
      "metadata": {
        "id": "b8yJ92xCXb9v",
        "colab": {
          "base_uri": "https://localhost:8080/"
        },
        "outputId": "834e21a8-0f3c-4465-b5a3-b402ad0bac99"
      },
      "outputs": [
        {
          "output_type": "stream",
          "name": "stdout",
          "text": [
            "Drive already mounted at drive; to attempt to forcibly remount, call drive.mount(\"drive\", force_remount=True).\n"
          ]
        }
      ],
      "source": [
        "import pandas as pd\n",
        "import matplotlib.pyplot as plt\n",
        "from datetime import datetime\n",
        "plt.style.use('seaborn')\n",
        "import yfinance as yf\n",
        "from google.colab import drive\n",
        "drive.mount('drive')\n",
        "import numpy as np\n",
        "\n"
      ]
    },
    {
      "cell_type": "code",
      "source": [
        "portfolio = [\"ADISX\",\"ARKG\",\"DSU\",\"FRA\",\"BHK\",\"QQQ\",\"SMH\",\"IGV\",\"XBI\",\"XLV\",\"XLF\",\"XLI\",\"ICLN\",\"IYT\",\"XLB\",\"IEMG\",\"IEFA\",\"EUFN\",\"VYM\",\"MUB\",\"MBB\",\"IEF\",\"TIP\",\"LQD\",\"KBWB\",\"VNQ\",\"GLD\",\"SLV\",\"FCX\",\"GBTC\",]\n",
        "\n",
        "data = yf.download(tickers=portfolio, period='ytd', threads=True)\n",
        "df = data[['Adj Close']]\n",
        "df.to_csv('data.csv')\n",
        "!cp data.csv \"drive/My Drive/\""
      ],
      "metadata": {
        "colab": {
          "base_uri": "https://localhost:8080/"
        },
        "id": "upqQ9-V5yrL2",
        "outputId": "c8ddedfc-c570-476a-845c-80573dba5d4c"
      },
      "execution_count": 9,
      "outputs": [
        {
          "output_type": "stream",
          "name": "stdout",
          "text": [
            "[*********************100%***********************]  30 of 30 completed\n"
          ]
        }
      ]
    },
    {
      "cell_type": "code",
      "source": [
        "portfolio = [\"ADISX\",\"ARKG\",\"DSU\",\"FRA\",\"BHK\",\"QQQ\",\"SMH\",\"IGV\",\"XBI\",\"XLV\",\"XLF\",\"XLI\",\"ICLN\",\"IYT\",\"XLB\",\"IEMG\",\"IEFA\",\"EUFN\",\"VYM\",\"MUB\",\"MBB\",\"IEF\",\"TIP\",\"LQD\",\"KBWB\",\"VNQ\",\"GLD\",\"SLV\",\"FCX\",\"GBTC\",]\n",
        "\n",
        "data2 = yf.download(tickers=portfolio, start='2021-12-31', threads=True)\n",
        "df2 = data2[['Adj Close']]\n",
        "df2"
      ],
      "metadata": {
        "id": "4wdMhfWoXu1a"
      },
      "execution_count": null,
      "outputs": []
    },
    {
      "cell_type": "code",
      "source": [
        "df_daily_returns = df2.pct_change()\n",
        "df_monthly_returns = df2.resample('M').ffill().pct_change()"
      ],
      "metadata": {
        "id": "OrtN0-pQ8t_2"
      },
      "execution_count": 191,
      "outputs": []
    },
    {
      "cell_type": "code",
      "source": [
        "df_daily_returns = df_daily_returns.iloc[2:]\n",
        "df_daily_returns"
      ],
      "metadata": {
        "id": "l8TBdqtOW7bX"
      },
      "execution_count": null,
      "outputs": []
    },
    {
      "cell_type": "code",
      "source": [
        "df_monthly_returns = df_monthly_returns.iloc[1:]\n",
        "df_monthly_returns"
      ],
      "metadata": {
        "id": "nJevEteIWpvh"
      },
      "execution_count": null,
      "outputs": []
    },
    {
      "cell_type": "code",
      "source": [
        "df_cum_returns = (df_daily_returns + 1).cumprod()\n",
        "df_cum_returns = df_cum_returns.iloc[2:]\n",
        "df_cum_returns\n"
      ],
      "metadata": {
        "id": "Vztak0GKW2jY"
      },
      "execution_count": null,
      "outputs": []
    },
    {
      "cell_type": "code",
      "source": [
        "df_returns = df_cum_returns.iloc[-1]\n",
        "df_returns = df_returns.droplevel(level=0)\n",
        "df_returns = pd.DataFrame(df_returns)\n",
        "# df_returns.rename(columns={'2022-03-10': 'YTD Cum. Return'})\n"
      ],
      "metadata": {
        "id": "dzVo0PSltfwx"
      },
      "execution_count": null,
      "outputs": []
    },
    {
      "cell_type": "code",
      "source": [
        "\n",
        "# m1 weights\n",
        "m1_weights = [{'ADISX':5.5,'ARKG':1.5,'DSU':0,'FRA':4,'BHK':0,'QQQ':13.5,'SMH':5,'IGV':5,'XBI':2,'XLV':3.5,'XLF':4,'XLI':3,'ICLN':5,'IYT':3.5,'XLB':5,'IEMG':6,'IEFA':4,'EUFN':2.5,'VYM':4,'MUB':0,'MBB':0,'IEF':5,'TIP':5,'LQD':0,'KBWB':2,'VNQ':0,'GLD':5,'SLV':2.5,'FCX':1,'GBTC':1}]\n",
        "m2_weights = [{'ADISX':5.5,'ARKG':1.5,'DSU':0,'FRA':4,'BHK':0,'QQQ':13.5,'SMH':4.5,'IGV':4.5,'XBI':2,'XLV':3.5,'XLF':4,'XLI':3,'ICLN':5,'IYT':3.5,'XLB':5,'IEMG':6,'IEFA':4,'EUFN':2.5,'VYM':4,'MUB':0,'MBB':0,'IEF':6,'TIP':5.5,'LQD':0,'KBWB':2,'VNQ':0,'GLD':5,'SLV':2.5,'FCX':1,'GBTC':1}]\n",
        "m3_weights = [{'ADISX':5.5,'ARKG':1.5,'DSU':0,'FRA':4,'BHK':0,'QQQ':13.5,'SMH':4.5,'IGV':4.5,'XBI':2,'XLV':3.5,'XLF':4,'XLI':2,'ICLN':5,'IYT':3.5,'XLB':5,'IEMG':6,'IEFA':4,'EUFN':2.5,'VYM':4,'MUB':0,'MBB':0,'IEF':6.5,'TIP':6,'LQD':0,'KBWB':2,'VNQ':0,'GLD':5,'SLV':2.5,'FCX':1,'GBTC':1}]\n",
        "m4_weights = [{'ADISX':5.5,'ARKG':1.5,'DSU':0,'FRA':4,'BHK':0,'QQQ':13.5,'SMH':4.5,'IGV':4,'XBI':2,'XLV':3.5,'XLF':4,'XLI':1.5,'ICLN':4.5,'IYT':3.0,'XLB':4,'IEMG':5,'IEFA':4,'EUFN':2.5,'VYM':4,'MUB':0,'MBB':0,'IEF':7.5,'TIP':6.5,'LQD':0,'KBWB':2,'VNQ':2.5,'GLD':5,'SLV':2.5,'FCX':1,'GBTC':1}]\n",
        "m5_weights = [{'ADISX':5.5,'ARKG':1.5,'DSU':0,'FRA':4,'BHK':0,'QQQ':12,'SMH':4.0,'IGV':4,'XBI':2,'XLV':3.5,'XLF':4,'XLI':1.5,'ICLN':3.5,'IYT':3.5,'XLB':3.5,'IEMG':5,'IEFA':4,'EUFN':2.5,'VYM':4,'MUB':0,'MBB':0,'IEF':9,'TIP':7.5,'LQD':0,'KBWB':2,'VNQ':2.5,'GLD':5,'SLV':2.5,'FCX':1,'GBTC':1}]\n",
        "\n",
        "\n",
        "m1_weights = pd.DataFrame(m1_weights).T.rename(columns={0:'M1 Weights'})\n",
        "m2_weights = pd.DataFrame(m2_weights).T.rename(columns={0:'M2 Weights'})\n",
        "m3_weights = pd.DataFrame(m3_weights).T.rename(columns={0:'M3 Weights'})\n",
        "m4_weights = pd.DataFrame(m4_weights).T.rename(columns={0:'M4 Weights'})\n",
        "m5_weights = pd.DataFrame(m5_weights).T.rename(columns={0:'M5 Weights'})\n",
        "weights = [m1_weights, m2_weights, m3_weights, m4_weights, m5_weights]\n",
        "\n",
        "df_weights = pd.DataFrame()\n",
        "\n",
        "for weight in weights: \n",
        "  df_weights = pd.concat([df_weights, weight], axis=1).reindex(weight.index)\n",
        "\n",
        "df_returns = pd.concat([df_returns, df_weights], axis=1).reindex(df_weights.index)\n"
      ],
      "metadata": {
        "id": "kDrCehGadfUg"
      },
      "execution_count": 242,
      "outputs": []
    },
    {
      "cell_type": "code",
      "source": [
        "df_returns.columns = ['YTD Cum. Return', 'M1 Weight', 'M2 Weight', 'M3 Weight', 'M4 Weight', 'M5 Weight']\n",
        "df_returns"
      ],
      "metadata": {
        "id": "i9cEi3gPpo9L"
      },
      "execution_count": null,
      "outputs": []
    }
  ]
}